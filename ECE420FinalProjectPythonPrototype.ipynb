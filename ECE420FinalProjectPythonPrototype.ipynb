{
  "nbformat": 4,
  "nbformat_minor": 0,
  "metadata": {
    "colab": {
      "provenance": [],
      "include_colab_link": true
    },
    "kernelspec": {
      "name": "python3",
      "display_name": "Python 3"
    },
    "language_info": {
      "name": "python"
    }
  },
  "cells": [
    {
      "cell_type": "markdown",
      "metadata": {
        "id": "view-in-github",
        "colab_type": "text"
      },
      "source": [
        "<a href=\"https://colab.research.google.com/github/XG11/ECE420FinalProject/blob/main/ECE420FinalProjectPythonPrototype.ipynb\" target=\"_parent\"><img src=\"https://colab.research.google.com/assets/colab-badge.svg\" alt=\"Open In Colab\"/></a>"
      ]
    },
    {
      "cell_type": "code",
      "execution_count": null,
      "metadata": {
        "id": "rXd1AmSkqtqA"
      },
      "outputs": [],
      "source": [
        "import numpy as np\n",
        "from scipy.ndimage import gaussian_filter, gaussian_gradient_magnitude\n",
        "from scipy.spatial.distance import euclidean\n",
        "from scipy.signal import convolve2d\n",
        "import matplotlib.pyplot as plt"
      ]
    },
    {
      "cell_type": "code",
      "source": [
        "def BlurredImage(image, sigma):\n",
        "  gaussian = np.zeros((image.shape[0], image.shape[1]))\n",
        "  for i in range(0, image.shape[0]):\n",
        "    for j in range(0, image.shape[1]):\n",
        "      gaussian[i][j] = 1/(2 * np.pi * sigma * sigma) * np.exp(-1 * (np.square(i) + np.square(j))/(2 * np.square(sigma)))\n",
        "  L = convolve2d(image, gaussian, mode='same')\n",
        "  return L\n",
        "\n",
        "def octaves(image, sigma, scale, octave):\n",
        "  l_images = []\n",
        "  num_octave = []\n",
        "  im_copy = image\n",
        "  for o in range(0, octave):\n",
        "    if(o != 0):\n",
        "      im_copy = cv2.resize(im_copy, None, fx=0.5, fy=0.5, interpolation=cv2.INTER_LINEAR)\n",
        "    r_image = im_copy.copy()\n",
        "    for s in range(0, scale):\n",
        "       r_image = BlurredImage(r_image, sigma)\n",
        "       num_octave.append(r_image)\n",
        "    l_images.append(num_octave)\n",
        "    for s in range(0, scale):\n",
        "      num_octave.pop()\n",
        "  return l_images\n",
        "\n",
        "def DOG(l_images):\n",
        "  d_images = []\n",
        "  num_octave = []\n",
        "  for i in range(0, len(l_images))\n",
        "    for j in range(0, len(l_images[i]) - 1):\n",
        "      difference = l_images[j+1] - l_images[j]\n",
        "      num_octave.append(difference)\n",
        "    d_images.append(num_octave)\n",
        "    for k in range(0, len(l_images[i]) - 1):\n",
        "      num_octave.pop()\n",
        "  return d_images\n",
        "\n",
        "\n"
      ],
      "metadata": {
        "id": "eKQBalNP6jFq"
      },
      "execution_count": null,
      "outputs": []
    },
    {
      "cell_type": "code",
      "source": [
        "def keypoints(d_images, threshold = 0.3):\n",
        "  keypoints = []\n",
        "  scale_factor = 2\n",
        "  for o, octave in enumerate(d_images):\n",
        "    for s, scale in octave:\n",
        "      current = scale\n",
        "      prev = scale - 1\n",
        "      next = scale + 1\n",
        "      for i in range(1, current.shape[0] - 1):\n",
        "        for j in range(1, current.shape[1] - 1):\n",
        "          current_pixel = current[i][j]\n",
        "          if abs.current_pixel < threshold:\n",
        "            continue\n",
        "\n",
        "          neighborhood = [prev[i-1:i+2, j-1:j+2], current[i-1:i+2, j-1:j+2], next[i-1:i+2, j-1:j+2]]\n",
        "          max_val = np.max(neighborhood)\n",
        "          min_val = np.min(neighborhood)\n",
        "          if current_pixel == max_val or current_pixel == min_val:\n",
        "            original_i = i * scale_factor\n",
        "            original_j = j * scale_factor\n",
        "            keypoints.append([o, s, original_i, original_j])\n",
        "\n",
        "  return keypoints\n"
      ],
      "metadata": {
        "id": "5CQ2JVM2bgOj"
      },
      "execution_count": null,
      "outputs": []
    },
    {
      "cell_type": "code",
      "source": [
        "def M_theta_calculation(image, keypoint, radius=8):\n",
        " ''' for k in keypoints:\n",
        "          M.append(np.sqrt(np.square(l_images[0][k[1]][k[2]+1,k[3]]-l_images[0][k[1]][k[2]-1,k[3]]) + np.square(l_images[0][k[1]][k[2],k[3]+1]-l_images[0][k[1]][k[2],k[3]-1])))\n",
        "          theta.append(np.arctan2((l_images[0][k[1]][k[2],k[3]+1]-l_images[0][k[1]][k[2],k[3]-1])/(l_images[0][k[1]][k[2]+1,k[3]]-l_images[0][k[1]][k[2]-1,k[3]])))\n",
        "'''\n",
        "    x, y = keypoint[2], keypoint[3]\n",
        "    gradient_magnitudes = []\n",
        "    gradient_orientations = []\n",
        "\n",
        "    # Compute gradient magnitudes and orientations around the keypoint\n",
        "    for i in range(-radius, radius + 1):\n",
        "        for j in range(-radius, radius + 1):\n",
        "            if (0 < x + i < image.shape[0] - 1) and (0 < y + j < image.shape[1] - 1):\n",
        "                dx = image[x + i, y + j + 1] - image[x + i, y + j - 1]\n",
        "                dy = image[x + i + 1, y + j] - image[x + i - 1, y + j]\n",
        "                magnitude = np.sqrt(dx**2 + dy**2)\n",
        "                orientation = np.degrees(np.arctan2(dy, dx)) % 360\n",
        "                gradient_magnitudes.append(magnitude)\n",
        "                gradient_orientations.append(orientation)\n",
        "    return gradient_magnitudes, gradient_orientations\n",
        "\n",
        "def histogram(gradient_magnitudes, gradient_orientations):\n",
        "  orientation_histogram = np.zeros(36)\n",
        "  for magnitude, orientation in zip(gradient_magnitudes, gradient_orientations):\n",
        "    bin_index = int(orientation // 10)\n",
        "    orientation_histogram[bin_index] += magnitude\n",
        "    dominant_orientation = np.argmax(orientation_histogram) * 10"
      ],
      "metadata": {
        "id": "NJVll2S2xBfq"
      },
      "execution_count": 11,
      "outputs": []
    },
    {
      "cell_type": "code",
      "source": [],
      "metadata": {
        "id": "SOhrkWPH463d"
      },
      "execution_count": null,
      "outputs": []
    }
  ]
}